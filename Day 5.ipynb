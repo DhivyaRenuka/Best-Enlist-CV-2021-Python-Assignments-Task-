{
 "cells": [
  {
   "cell_type": "markdown",
   "metadata": {},
   "source": [
    "# Day 5\n",
    "# ----------------------------------------------------------------------------------------------------------\n",
    "# User Inputs, Other Important Datatypes"
   ]
  },
  {
   "cell_type": "markdown",
   "metadata": {},
   "source": [
    "### 1)\tWrite a program to create a list of n integer values and do the following\n",
    "•\tAdd an item in to the list (using function)  \n",
    "•\tDelete (using function)  \n",
    "•\tStore the largest number from the list to a variable  \n"
   ]
  },
  {
   "cell_type": "code",
   "execution_count": 2,
   "metadata": {},
   "outputs": [
    {
     "name": "stdout",
     "output_type": "stream",
     "text": [
      "1\n",
      "2\n",
      "3\n",
      "4\n",
      "5\n",
      "6\n",
      "7\n"
     ]
    }
   ],
   "source": [
    "n=7\n",
    "a=[]\n",
    "for i in range(n):\n",
    "    x=int(input())\n",
    "    a.append(x)\n"
   ]
  },
  {
   "cell_type": "code",
   "execution_count": 3,
   "metadata": {},
   "outputs": [
    {
     "name": "stdout",
     "output_type": "stream",
     "text": [
      "1\n",
      "2\n",
      "3\n",
      "4\n",
      "5\n",
      "6\n",
      "7\n"
     ]
    }
   ],
   "source": [
    "for i in a:\n",
    "    print(i)"
   ]
  },
  {
   "cell_type": "code",
   "execution_count": 4,
   "metadata": {},
   "outputs": [
    {
     "name": "stdout",
     "output_type": "stream",
     "text": [
      "1\n",
      "2\n",
      "3\n",
      "4\n",
      "5\n",
      "6\n",
      "7\n"
     ]
    }
   ],
   "source": [
    "for i in range(len(a)):\n",
    "    print(a[i])"
   ]
  },
  {
   "cell_type": "markdown",
   "metadata": {},
   "source": [
    "### Adding elemnts in list"
   ]
  },
  {
   "cell_type": "code",
   "execution_count": 5,
   "metadata": {},
   "outputs": [
    {
     "name": "stdout",
     "output_type": "stream",
     "text": [
      "A= [1, 2, 3, 4, 5, 6, 7]\n",
      "After adding another list : [1, 2, 3, 4, 5, 6, 7, 'a', 's', 'd', 'g', 'h']\n"
     ]
    }
   ],
   "source": [
    "print(\"A=\",a)\n",
    "b=['a','s','d','g','h']\n",
    "a+=b\n",
    "print(\"After adding another list :\",a)"
   ]
  },
  {
   "cell_type": "code",
   "execution_count": 6,
   "metadata": {},
   "outputs": [
    {
     "data": {
      "text/plain": [
       "[1, 2, 3, 4, 5, 6, 7, 'a', 's', 'd', 'g', 'h', 23, 3, 2, 1, 5]"
      ]
     },
     "execution_count": 6,
     "metadata": {},
     "output_type": "execute_result"
    }
   ],
   "source": [
    "c=[23,3,2,1,5]\n",
    "a.extend(c)\n",
    "a"
   ]
  },
  {
   "cell_type": "code",
   "execution_count": 7,
   "metadata": {},
   "outputs": [
    {
     "name": "stdout",
     "output_type": "stream",
     "text": [
      "[1, 2, 3, 4, 'I am newly inserted element', 5, 6, 7, 'a', 's', 'd', 'g', 'h', 23, 3, 2, 1, 5]\n"
     ]
    }
   ],
   "source": [
    "a.insert(4,\"I am newly inserted element\")\n",
    "print(a)"
   ]
  },
  {
   "cell_type": "markdown",
   "metadata": {},
   "source": [
    "### Deleting an element in list"
   ]
  },
  {
   "cell_type": "code",
   "execution_count": 8,
   "metadata": {},
   "outputs": [],
   "source": [
    "del a[8]"
   ]
  },
  {
   "cell_type": "code",
   "execution_count": 9,
   "metadata": {},
   "outputs": [
    {
     "name": "stdout",
     "output_type": "stream",
     "text": [
      "[1, 2, 3, 4, 'I am newly inserted element', 5, 6, 7, 's', 'd', 'g', 'h', 23, 3, 2, 1, 5]\n"
     ]
    }
   ],
   "source": [
    "print(a)"
   ]
  },
  {
   "cell_type": "code",
   "execution_count": 10,
   "metadata": {},
   "outputs": [
    {
     "name": "stdout",
     "output_type": "stream",
     "text": [
      "[1, 2, 3, 4, 'I am newly inserted element', 5, 6, 7]\n"
     ]
    }
   ],
   "source": [
    "del a[8:17]\n",
    "print(a)"
   ]
  },
  {
   "cell_type": "code",
   "execution_count": 11,
   "metadata": {},
   "outputs": [
    {
     "name": "stdout",
     "output_type": "stream",
     "text": [
      "[1, 2, 3, 4, 'I am newly inserted element', 5, 6]\n"
     ]
    }
   ],
   "source": [
    "a.pop() # delete a last element in list\n",
    "print(a)"
   ]
  },
  {
   "cell_type": "code",
   "execution_count": 12,
   "metadata": {},
   "outputs": [
    {
     "name": "stdout",
     "output_type": "stream",
     "text": [
      "[1, 2, 3, 4, 'I am newly inserted element', 6]\n"
     ]
    }
   ],
   "source": [
    "a.pop(-2) # delete the second last element in list\n",
    "print(a)"
   ]
  },
  {
   "cell_type": "code",
   "execution_count": 20,
   "metadata": {},
   "outputs": [
    {
     "name": "stdout",
     "output_type": "stream",
     "text": [
      "[1, 2, 3, 'I am newly inserted element', 6]\n"
     ]
    }
   ],
   "source": [
    "a.remove(4)\n",
    "print(a)"
   ]
  },
  {
   "cell_type": "code",
   "execution_count": 21,
   "metadata": {},
   "outputs": [
    {
     "name": "stdout",
     "output_type": "stream",
     "text": [
      "[1, 2, 3, 'I am newly inserted element']\n"
     ]
    }
   ],
   "source": [
    "a.remove(6)\n",
    "print(a)"
   ]
  },
  {
   "cell_type": "markdown",
   "metadata": {},
   "source": [
    "### Store the largest number from the list to a variable\n"
   ]
  },
  {
   "cell_type": "code",
   "execution_count": 15,
   "metadata": {},
   "outputs": [
    {
     "name": "stdout",
     "output_type": "stream",
     "text": [
      "maximun number in list 98\n"
     ]
    }
   ],
   "source": [
    "lisy =[90,98,78,67,56,45]\n",
    "max_i=max(lisy)\n",
    "print(\"maximun number in list\",max_i)"
   ]
  },
  {
   "cell_type": "markdown",
   "metadata": {},
   "source": [
    "### Store the Smallest number from the list to a variable"
   ]
  },
  {
   "cell_type": "code",
   "execution_count": 16,
   "metadata": {},
   "outputs": [
    {
     "name": "stdout",
     "output_type": "stream",
     "text": [
      "minimun number in list 45\n"
     ]
    }
   ],
   "source": [
    "lisy =[90,98,78,67,56,45]\n",
    "min_i=min(lisy)\n",
    "print(\"minimun number in list\",min_i)"
   ]
  },
  {
   "cell_type": "markdown",
   "metadata": {},
   "source": [
    "### 2) Create a tuple and print the reverse of the created tuple"
   ]
  },
  {
   "cell_type": "code",
   "execution_count": 17,
   "metadata": {},
   "outputs": [
    {
     "name": "stdout",
     "output_type": "stream",
     "text": [
      "tuple before sorting (12, 12, 23, 34, 34, 45, 46, 47, 87, 56)\n",
      "Reverse the tuple  [87, 56, 47, 46, 45, 34, 34, 23, 12, 12]\n",
      "Sorted tuplr [12, 12, 23, 34, 34, 45, 46, 47, 56, 87]\n"
     ]
    }
   ],
   "source": [
    "tup =(12,12,23,34,34,45,46,47,87,56)\n",
    "s=sorted(tup)\n",
    "print(\"tuple before sorting\",tup)\n",
    "print(\"Reverse the tuple \",sorted(tup,reverse=True))\n",
    "print(\"Sorted tuplr\",s)"
   ]
  },
  {
   "cell_type": "code",
   "execution_count": 18,
   "metadata": {},
   "outputs": [
    {
     "name": "stdout",
     "output_type": "stream",
     "text": [
      "reverse of sorted tuple is  [87, 56, 47, 46, 45, 34, 34, 23, 12, 12]\n"
     ]
    }
   ],
   "source": [
    "r=sorted(s, reverse=True)\n",
    "print(\"reverse of sorted tuple is \",r)"
   ]
  },
  {
   "cell_type": "markdown",
   "metadata": {},
   "source": [
    "### 3) Create a Tuple And Convert into List"
   ]
  },
  {
   "cell_type": "code",
   "execution_count": 19,
   "metadata": {},
   "outputs": [
    {
     "name": "stdout",
     "output_type": "stream",
     "text": [
      "tuple is  (12, 12, 23, 34, 34, 45, 46, 47, 87, 56)\n",
      "Tuple in form as list  [12, 12, 23, 34, 34, 45, 46, 47, 87, 56]\n"
     ]
    }
   ],
   "source": [
    "tup =(12,12,23,34,34,45,46,47,87,56)\n",
    "list1=list(tup)\n",
    "print(\"tuple is \",tup)\n",
    "print(\"Tuple in form as list \",list1)"
   ]
  }
 ],
 "metadata": {
  "kernelspec": {
   "display_name": "Python 3",
   "language": "python",
   "name": "python3"
  }
 },
 "nbformat": 4,
 "nbformat_minor": 4
}
