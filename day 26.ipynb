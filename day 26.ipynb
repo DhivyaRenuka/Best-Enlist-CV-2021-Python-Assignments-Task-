{
 "cells": [
  {
   "cell_type": "markdown",
   "metadata": {},
   "source": [
    "# Day 26\n",
    "# ---------------------------------------------------------------------------------------------------------\n",
    "# Python Enumerate"
   ]
  },
  {
   "cell_type": "markdown",
   "metadata": {},
   "source": [
    "### •\tEnumerate a python list and try to print the counter with the list value"
   ]
  },
  {
   "cell_type": "code",
   "execution_count": 2,
   "metadata": {},
   "outputs": [
    {
     "name": "stdout",
     "output_type": "stream",
     "text": [
      "[(0, 'divya'), (1, 'shri'), (2, 'renu'), (3, 'anurag'), (4, 'sidrath')]\n"
     ]
    }
   ],
   "source": [
    "list1= ['divya','shri','renu','anurag','sidrath']\n",
    "print(list(enumerate(list1)))"
   ]
  },
  {
   "cell_type": "code",
   "execution_count": 3,
   "metadata": {},
   "outputs": [
    {
     "name": "stdout",
     "output_type": "stream",
     "text": [
      "<enumerate object at 0x0000022F14DCEF80>\n"
     ]
    }
   ],
   "source": [
    "print(enumerate(list1))"
   ]
  },
  {
   "cell_type": "markdown",
   "metadata": {},
   "source": [
    "### •\tEnumerate a python tuple and try to print the counter with the tuple value"
   ]
  },
  {
   "cell_type": "code",
   "execution_count": 4,
   "metadata": {},
   "outputs": [
    {
     "name": "stdout",
     "output_type": "stream",
     "text": [
      "((0, 'divya'), (1, 'shri'), (2, 'renu'), (3, 'anurag'), (4, 'sidrath'))\n"
     ]
    }
   ],
   "source": [
    "tuple1=('divya','shri','renu','anurag','sidrath')\n",
    "print(tuple(enumerate(tuple1)))"
   ]
  }
 ],
 "metadata": {
  "kernelspec": {
   "display_name": "Python 3",
   "language": "python",
   "name": "python3"
  },
  "language_info": {
   "codemirror_mode": {
    "name": "ipython",
    "version": 3
   },
   "file_extension": ".py",
   "mimetype": "text/x-python",
   "name": "python",
   "nbconvert_exporter": "python",
   "pygments_lexer": "ipython3",
   "version": "3.8.5"
  }
 },
 "nbformat": 4,
 "nbformat_minor": 4
}
