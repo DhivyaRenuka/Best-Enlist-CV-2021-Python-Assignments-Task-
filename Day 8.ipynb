{
 "cells": [
  {
   "cell_type": "markdown",
   "metadata": {},
   "source": [
    "# Day 8\n",
    "# ------------------------------------------------------------------------------------------------------------\n",
    "# Excercise"
   ]
  },
  {
   "cell_type": "markdown",
   "metadata": {},
   "source": [
    "###  1) Write a Python script to merge two Python dictionaries"
   ]
  },
  {
   "cell_type": "code",
   "execution_count": 2,
   "metadata": {},
   "outputs": [
    {
     "name": "stdout",
     "output_type": "stream",
     "text": [
      "{5: 'e', 6: 'f', 7: 'g'}\n",
      "{1: 'a', 2: 'b', 3: 'c', 4: 'd'}\n",
      "{1: 'a', 2: 'b', 3: 'c', 4: 'd', 5: 'e', 6: 'f', 7: 'g'}\n",
      "{5: 'e', 6: 'f', 7: 'g', 1: 'a', 2: 'b', 3: 'c', 4: 'd'}\n"
     ]
    }
   ],
   "source": [
    "dict1={1:'a',2:'b',3:'c',4:'d'}\n",
    "dict2={5:'e',6:'f',7:'g'}\n",
    "print(dict2)\n",
    "dict3={**dict1, **dict2} # method 1\n",
    "dict2.update(dict1) # method 2\n",
    "print(dict1)\n",
    "print(dict3)\n",
    "print(dict2)\n"
   ]
  },
  {
   "cell_type": "markdown",
   "metadata": {},
   "source": [
    "### 2)Write a program to sort the value from descending to ascending in list and convert it in to a set"
   ]
  },
  {
   "cell_type": "code",
   "execution_count": 3,
   "metadata": {},
   "outputs": [
    {
     "name": "stdout",
     "output_type": "stream",
     "text": [
      "[1, 2, 2, 3, 3, 4, 5, 6, 7, 12, 14, 43]\n"
     ]
    }
   ],
   "source": [
    "list1=[2,3,4,5,6,7,1,2,3,43,12,14]\n",
    "list1.sort() #sort list in ascending order\n",
    "print(list1)"
   ]
  },
  {
   "cell_type": "code",
   "execution_count": 4,
   "metadata": {},
   "outputs": [
    {
     "name": "stdout",
     "output_type": "stream",
     "text": [
      "[43, 14, 12, 7, 6, 5, 4, 3, 3, 2, 2, 1]\n"
     ]
    }
   ],
   "source": [
    "list1.sort(reverse=True)\n",
    "print(list1)"
   ]
  },
  {
   "cell_type": "code",
   "execution_count": 5,
   "metadata": {},
   "outputs": [
    {
     "name": "stdout",
     "output_type": "stream",
     "text": [
      "{1, 2, 3, 4, 5, 6, 7, 43, 12, 14}\n"
     ]
    }
   ],
   "source": [
    "set1=set(list1) \n",
    "print(set1) # after conversion of set the duplication is removed"
   ]
  },
  {
   "cell_type": "code",
   "execution_count": 6,
   "metadata": {},
   "outputs": [
    {
     "data": {
      "text/plain": [
       "set"
      ]
     },
     "execution_count": 6,
     "metadata": {},
     "output_type": "execute_result"
    }
   ],
   "source": [
    "type(set1)"
   ]
  },
  {
   "cell_type": "code",
   "execution_count": 7,
   "metadata": {},
   "outputs": [
    {
     "data": {
      "text/plain": [
       "list"
      ]
     },
     "execution_count": 7,
     "metadata": {},
     "output_type": "execute_result"
    }
   ],
   "source": [
    "type(list1)"
   ]
  },
  {
   "cell_type": "markdown",
   "metadata": {},
   "source": [
    "### 3) Write a Python program to list number of items in a dictionary key and sort the list with the help of a function & without the function.\n"
   ]
  },
  {
   "cell_type": "code",
   "execution_count": 8,
   "metadata": {},
   "outputs": [
    {
     "name": "stdout",
     "output_type": "stream",
     "text": [
      "{'Anu': [33, 44, 55, 66], 'Divi': [12, 13, 16, 21], 'Renu': [12, 43, 54, 67], 'Shri': [34, 87, 88, 98]}\n"
     ]
    }
   ],
   "source": [
    "dict1={'Divi':[12,13,21,16],'Renu':[12,67,54,43],'Shri':[34,87,88,98],'Anu':[33,66,55,44]}\n",
    "result={k:sorted(dict1[k]) for k in sorted(dict1)}\n",
    "print(result)"
   ]
  },
  {
   "cell_type": "code",
   "execution_count": 9,
   "metadata": {},
   "outputs": [],
   "source": [
    "def function1(dict1):\n",
    "    res = dict()\n",
    "    for key in sorted(dict1):\n",
    "        res[key] = sorted(dict1[key])\n",
    "    return res"
   ]
  },
  {
   "cell_type": "code",
   "execution_count": 10,
   "metadata": {},
   "outputs": [
    {
     "data": {
      "text/plain": [
       "{'Anu': [33, 44, 55, 66],\n",
       " 'Divi': [12, 13, 16, 21],\n",
       " 'Renu': [12, 43, 54, 67],\n",
       " 'Shri': [34, 87, 88, 98]}"
      ]
     },
     "execution_count": 10,
     "metadata": {},
     "output_type": "execute_result"
    }
   ],
   "source": [
    "function1(dict1)\n",
    "\n",
    "\n"
   ]
  },
  {
   "cell_type": "code",
   "execution_count": 11,
   "metadata": {},
   "outputs": [],
   "source": [
    "def function2(dict1):\n",
    "    res=dict()\n",
    "    min1=dict1[key]\n",
    "    for key in sorted(dict1):\n",
    "        if dict1[key]<min1:\n",
    "            min1=dict1[key]\n",
    "            res[key]=min1\n",
    "    return res"
   ]
  },
  {
   "cell_type": "code",
   "execution_count": 12,
   "metadata": {},
   "outputs": [
    {
     "data": {
      "text/plain": [
       "{'Anu': [33, 44, 55, 66],\n",
       " 'Divi': [12, 13, 16, 21],\n",
       " 'Renu': [12, 43, 54, 67],\n",
       " 'Shri': [34, 87, 88, 98]}"
      ]
     },
     "execution_count": 12,
     "metadata": {},
     "output_type": "execute_result"
    }
   ],
   "source": [
    "function1(dict1)"
   ]
  },
  {
   "cell_type": "markdown",
   "metadata": {},
   "source": [
    "### 4)Write a Python program to get a string from a given string (user input) and change the first occurrence of the word to a user specified input."
   ]
  },
  {
   "cell_type": "code",
   "execution_count": 13,
   "metadata": {},
   "outputs": [],
   "source": [
    "def fun():\n",
    "    user=input(\"Enter the string :\")\n",
    "    word=\"String is given by user  \"\n",
    "    return user+word[6:]"
   ]
  },
  {
   "cell_type": "code",
   "execution_count": 14,
   "metadata": {},
   "outputs": [
    {
     "name": "stdout",
     "output_type": "stream",
     "text": [
      "Enter the string :Hello\n"
     ]
    },
    {
     "data": {
      "text/plain": [
       "'Hello is given by user  '"
      ]
     },
     "execution_count": 14,
     "metadata": {},
     "output_type": "execute_result"
    }
   ],
   "source": [
    "fun()"
   ]
  },
  {
   "cell_type": "code",
   "execution_count": 15,
   "metadata": {},
   "outputs": [],
   "source": [
    "def fun1():\n",
    "    user=input(\"Enter the string :\")\n",
    "    word=\"String is given by user  \"\n",
    "    return word.replace('String',user)\n",
    "    "
   ]
  },
  {
   "cell_type": "code",
   "execution_count": 16,
   "metadata": {},
   "outputs": [
    {
     "name": "stdout",
     "output_type": "stream",
     "text": [
      "Enter the string :Hello\n"
     ]
    },
    {
     "data": {
      "text/plain": [
       "'Hello is given by user  '"
      ]
     },
     "execution_count": 16,
     "metadata": {},
     "output_type": "execute_result"
    }
   ],
   "source": [
    "fun1()"
   ]
  },
  {
   "cell_type": "markdown",
   "metadata": {},
   "source": [
    "### 5)Write a Python program to get a string from a given string where all occurrences of its first char have been changed to capital letter."
   ]
  },
  {
   "cell_type": "code",
   "execution_count": 17,
   "metadata": {},
   "outputs": [],
   "source": [
    "def fun3():\n",
    "    user=input(\"Enter the string :\")\n",
    "    return user.capitalize()\n",
    "    "
   ]
  },
  {
   "cell_type": "code",
   "execution_count": 18,
   "metadata": {},
   "outputs": [
    {
     "name": "stdout",
     "output_type": "stream",
     "text": [
      "Enter the string :hello python \n"
     ]
    },
    {
     "data": {
      "text/plain": [
       "'Hello python '"
      ]
     },
     "execution_count": 18,
     "metadata": {},
     "output_type": "execute_result"
    }
   ],
   "source": [
    "fun3()"
   ]
  },
  {
   "cell_type": "code",
   "execution_count": 19,
   "metadata": {},
   "outputs": [],
   "source": [
    "def change_char(str1):\n",
    "    char = str1[0]\n",
    "    str1 = str1.replace(char, str1[0].upper())\n",
    "    str1 = char + str1[1:]\n",
    "    return str1"
   ]
  },
  {
   "cell_type": "code",
   "execution_count": 20,
   "metadata": {},
   "outputs": [
    {
     "data": {
      "text/plain": [
       "'hello world ! tHis is a pytHon program'"
      ]
     },
     "execution_count": 20,
     "metadata": {},
     "output_type": "execute_result"
    }
   ],
   "source": [
    "change_char('hello world ! this is a python program')"
   ]
  },
  {
   "cell_type": "markdown",
   "metadata": {},
   "source": [
    "### 6) Write a Python program to find the repeated items of a list"
   ]
  },
  {
   "cell_type": "code",
   "execution_count": 21,
   "metadata": {},
   "outputs": [
    {
     "name": "stdout",
     "output_type": "stream",
     "text": [
      "Counter({1: 4, 2: 3, 5: 2, 9: 2, 3: 1, 4: 1, 6: 1, 7: 1, 8: 1})\n",
      "[1, 2, 5, 9]\n"
     ]
    }
   ],
   "source": [
    "from collections import Counter\n",
    " \n",
    "l1 = [1,2,1,2,3,4,5,1,1,2,5,6,7,8,9,9]\n",
    "d = Counter(l1)\n",
    "print(d)\n",
    " \n",
    "new_list = list([item for item in d if d[item]>1])\n",
    "print(new_list)"
   ]
  },
  {
   "cell_type": "code",
   "execution_count": 22,
   "metadata": {},
   "outputs": [],
   "source": [
    "def Repeat(x):\n",
    "    _size = len(x)\n",
    "    repeated = []\n",
    "    for i in range(_size):\n",
    "        k = i + 1\n",
    "        for j in range(k, _size):\n",
    "            if x[i] == x[j] and x[i] not in repeated:\n",
    "                repeated.append(x[i])\n",
    "    return repeated\n"
   ]
  },
  {
   "cell_type": "code",
   "execution_count": 23,
   "metadata": {},
   "outputs": [
    {
     "name": "stdout",
     "output_type": "stream",
     "text": [
      "[20, 30, -20, 60]\n"
     ]
    }
   ],
   "source": [
    "list1 = [10, 20, 30, 20, 20, 30, 40,\n",
    "         50, -20, 60, 60, -20, -20]\n",
    "print (Repeat(list1))"
   ]
  },
  {
   "cell_type": "markdown",
   "metadata": {},
   "source": [
    "### 7) Write a Python program to check the sum of three elements and divided by a value which is given as an input by the user"
   ]
  },
  {
   "cell_type": "code",
   "execution_count": 27,
   "metadata": {},
   "outputs": [
    {
     "name": "stdout",
     "output_type": "stream",
     "text": [
      "Enter number :1\n",
      "Enter number :2\n",
      "Enter number :3\n",
      "6\n",
      "Enter the number to divide sum!6\n",
      "The given input divide\n"
     ]
    }
   ],
   "source": [
    "a=int(input(\"Enter number :\"))\n",
    "b=int(input(\"Enter number :\"))\n",
    "c=int(input(\"Enter number :\"))\n",
    "sum1=a+b+c\n",
    "print(sum1)\n",
    "user=int(input(\"Enter the number to divide sum!\"))\n",
    "if sum1% user==0:\n",
    "    print(\"The given input divide\")\n",
    "else :\n",
    "    print(\"The given input does not divide sum1\")"
   ]
  },
  {
   "cell_type": "markdown",
   "metadata": {},
   "source": [
    "### 8) Write a Python program to find the Mean,median,mode among three given numbers"
   ]
  },
  {
   "cell_type": "code",
   "execution_count": 28,
   "metadata": {},
   "outputs": [],
   "source": [
    "from collections import Counter\n",
    "def MMM(n_num):\n",
    "    n = len(n_num)\n",
    "    get_sum = sum(n_num)\n",
    "    mean = get_sum / n\n",
    "    print(\"Mean / Average is: \" + str(mean))\n",
    "    n_num.sort()\n",
    "    if n % 2 == 0:\n",
    "        median1 = n_num[n//2]\n",
    "        median2 = n_num[n//2 - 1]\n",
    "        median = (median1 + median2)/2\n",
    "    else:\n",
    "        median = n_num[n//2]\n",
    "    print(\"Median is: \" + str(median))\n",
    "    data = Counter(n_num)\n",
    "    get_mode = dict(data)\n",
    "    mode = [k for k, v in get_mode.items() if v == max(list(data.values()))]\n",
    "    if len(mode) == n:\n",
    "        get_mode = \"No mode found\"\n",
    "    else:\n",
    "        get_mode = \"Mode is / are: \" + ', '.join(map(str, mode))\n",
    "    print(get_mode)"
   ]
  },
  {
   "cell_type": "code",
   "execution_count": 29,
   "metadata": {},
   "outputs": [
    {
     "name": "stdout",
     "output_type": "stream",
     "text": [
      "Mean / Average is: 85.77777777777777\n",
      "Median is: 25\n",
      "No mode found\n"
     ]
    }
   ],
   "source": [
    "l=[12,11,23,245,25,22,344,34,56]\n",
    "MMM(l)"
   ]
  },
  {
   "cell_type": "markdown",
   "metadata": {},
   "source": [
    "### 9)Write a Python program to swap cases of a given string"
   ]
  },
  {
   "cell_type": "code",
   "execution_count": 30,
   "metadata": {},
   "outputs": [
    {
     "name": "stdout",
     "output_type": "stream",
     "text": [
      "World Hello\n"
     ]
    }
   ],
   "source": [
    "a=\"Hello\"\n",
    "b=\"World\"\n",
    "tep=a\n",
    "a=b\n",
    "b=tep\n",
    "print(a,b)"
   ]
  },
  {
   "cell_type": "code",
   "execution_count": 31,
   "metadata": {},
   "outputs": [
    {
     "name": "stdout",
     "output_type": "stream",
     "text": [
      "Hello World\n"
     ]
    }
   ],
   "source": [
    "x = a\n",
    "y = b\n",
    "x, y = y, x\n",
    "print(x,y)"
   ]
  },
  {
   "cell_type": "markdown",
   "metadata": {},
   "source": [
    "### 10) Write a program to convert an integer to binary & octa decimal"
   ]
  },
  {
   "cell_type": "code",
   "execution_count": 32,
   "metadata": {},
   "outputs": [],
   "source": [
    "def decToOctal(n):\n",
    "    octalNum = [0] * 100\n",
    "    i = 0\n",
    "    while (n != 0):\n",
    "        octalNum[i] = n % 8\n",
    "        n = int(n / 8)\n",
    "        i += 1\n",
    "    for j in range(i - 1, -1, -1):\n",
    "        print(octalNum[j], end=\"\")\n"
   ]
  },
  {
   "cell_type": "code",
   "execution_count": 33,
   "metadata": {},
   "outputs": [
    {
     "name": "stdout",
     "output_type": "stream",
     "text": [
      "101"
     ]
    }
   ],
   "source": [
    "n=65\n",
    "decToOctal(n)"
   ]
  },
  {
   "cell_type": "code",
   "execution_count": 34,
   "metadata": {},
   "outputs": [
    {
     "name": "stdout",
     "output_type": "stream",
     "text": [
      "3"
     ]
    }
   ],
   "source": [
    "n=3\n",
    "decToOctal(n)"
   ]
  }
 ],
 "metadata": {
  "kernelspec": {
   "display_name": "Python 3",
   "language": "python",
   "name": "python3"
  },
  "language_info": {
   "codemirror_mode": {
    "name": "ipython",
    "version": 3
   },
   "file_extension": ".py",
   "mimetype": "text/x-python",
   "name": "python",
   "nbconvert_exporter": "python",
   "pygments_lexer": "ipython3",
   "version": "3.8.5"
  }
 },
 "nbformat": 4,
 "nbformat_minor": 4
}
