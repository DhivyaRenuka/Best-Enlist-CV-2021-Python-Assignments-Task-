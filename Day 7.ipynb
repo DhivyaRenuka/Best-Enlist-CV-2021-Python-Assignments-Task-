{
 "cells": [
  {
   "cell_type": "markdown",
   "metadata": {},
   "source": [
    "# Day 7\n",
    "# ------------------------------------------------------------------------------------------------------------\n",
    "# Functions"
   ]
  },
  {
   "cell_type": "markdown",
   "metadata": {},
   "source": [
    "##### 1.\tCreate a function getting two integer inputs from user.& print the following:\n",
    "\n",
    "##### Addition of two numbers is +value\n",
    "\n",
    "##### Subtraction of two numbers is +value\n",
    "\n",
    "##### Division of two numbers is +value\n",
    "\n",
    "##### Multiplication of two numbers is +value\n",
    "\n",
    "##### Here the value represents math function associated\n",
    "\n"
   ]
  },
  {
   "cell_type": "code",
   "execution_count": 4,
   "metadata": {},
   "outputs": [
    {
     "name": "stdout",
     "output_type": "stream",
     "text": [
      "Enter the first value :20\n",
      "Enter the second value: 10\n",
      "Enter '+' for addition , '-' for Subration ,'*' for multiplication, '/ for division'+\n"
     ]
    }
   ],
   "source": [
    "a= int(input(\"Enter the first value :\"))\n",
    "b=int(input(\"Enter the second value: \"))\n",
    "sign1=input(\"Enter '+' for addition , '-' for Subration ,'*' for multiplication, '/ for division'\")   "
   ]
  },
  {
   "cell_type": "code",
   "execution_count": 5,
   "metadata": {},
   "outputs": [],
   "source": [
    "def math_function(a,b,sign):\n",
    "    if sign == '+':\n",
    "        print(\"Addition of a and b is \",str(a+b))\n",
    "    elif sign == '-':\n",
    "        print(\"Subraction of a and b is \",str(a-b))\n",
    "    elif sign == '*':\n",
    "        print(\"Multiplication of a and b is \",str(a*b))\n",
    "    elif sign == '/':\n",
    "        print(\"Division of a and b is \",str(a/b))"
   ]
  },
  {
   "cell_type": "code",
   "execution_count": 6,
   "metadata": {},
   "outputs": [
    {
     "name": "stdout",
     "output_type": "stream",
     "text": [
      "Addition of a and b is  30\n"
     ]
    }
   ],
   "source": [
    "math_function(a,b,sign1)"
   ]
  },
  {
   "cell_type": "code",
   "execution_count": 8,
   "metadata": {},
   "outputs": [
    {
     "name": "stdout",
     "output_type": "stream",
     "text": [
      "Enter the first value :23\n",
      "Enter the second value: 45\n",
      "Enter '+' for addition , '-' for Subration ,'*' for multiplication, '/ for division'*\n",
      "Multiplication of a and b is  1035\n"
     ]
    }
   ],
   "source": [
    "a= int(input(\"Enter the first value :\"))\n",
    "b=int(input(\"Enter the second value: \"))\n",
    "sign1=input(\"Enter '+' for addition , '-' for Subration ,'*' for multiplication, '/ for division'\")  \n",
    "math_function(a,b,sign1)"
   ]
  },
  {
   "cell_type": "code",
   "execution_count": 9,
   "metadata": {},
   "outputs": [
    {
     "name": "stdout",
     "output_type": "stream",
     "text": [
      "Enter the first value :45\n",
      "Enter the second value: 3\n",
      "Enter '+' for addition , '-' for Subration ,'*' for multiplication, '/ for division'/\n",
      "Division of a and b is  15.0\n"
     ]
    }
   ],
   "source": [
    "a= int(input(\"Enter the first value :\"))\n",
    "b=int(input(\"Enter the second value: \"))\n",
    "sign1=input(\"Enter '+' for addition , '-' for Subration ,'*' for multiplication, '/ for division'\")  \n",
    "math_function(a,b,sign1)"
   ]
  },
  {
   "cell_type": "markdown",
   "metadata": {},
   "source": [
    "#####  2.Create a function covid( )& it should accept patient name, and body temperature, by default the body temperature should be 98 degree"
   ]
  },
  {
   "cell_type": "code",
   "execution_count": 10,
   "metadata": {},
   "outputs": [],
   "source": [
    "def covid(name,temp):\n",
    "    print(\"Name of patient is\",name)\n",
    "    if temp == '':\n",
    "        print(\"Body Temprature  :98\")\n",
    "    else:\n",
    "        print(\"Body Temprature  :\",temp)\n",
    "        "
   ]
  },
  {
   "cell_type": "code",
   "execution_count": 11,
   "metadata": {},
   "outputs": [
    {
     "name": "stdout",
     "output_type": "stream",
     "text": [
      "Enter the patient name :Divya\n",
      "enter body temprature \n",
      "Name of patient is Divya\n",
      "Body Temprature  :98\n"
     ]
    }
   ],
   "source": [
    "name=input(\"Enter the patient name :\")\n",
    "temp=input(\"enter body temprature \")\n",
    "covid(name,temp)"
   ]
  },
  {
   "cell_type": "code",
   "execution_count": 12,
   "metadata": {},
   "outputs": [
    {
     "name": "stdout",
     "output_type": "stream",
     "text": [
      "Enter the patient name :Sidhart\n",
      "enter body temprature 99.7\n",
      "Name of patient is Sidhart\n",
      "Body Temprature  : 99.7\n"
     ]
    }
   ],
   "source": [
    "name=input(\"Enter the patient name :\")\n",
    "temp=input(\"enter body temprature \")\n",
    "covid(name,temp)"
   ]
  }
 ],
 "metadata": {
  "kernelspec": {
   "display_name": "Python 3",
   "language": "python",
   "name": "python3"
  },
  "language_info": {
   "codemirror_mode": {
    "name": "ipython",
    "version": 3
   },
   "file_extension": ".py",
   "mimetype": "text/x-python",
   "name": "python",
   "nbconvert_exporter": "python",
   "pygments_lexer": "ipython3",
   "version": "3.8.5"
  }
 },
 "nbformat": 4,
 "nbformat_minor": 4
}
