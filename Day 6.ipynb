{
 "cells": [
  {
   "cell_type": "markdown",
   "metadata": {},
   "source": [
    "#  Day 6\n",
    "# ------------------------------------------------------------------------------\n",
    "# Dictionary,Sets\n"
   ]
  },
  {
   "cell_type": "markdown",
   "metadata": {},
   "source": [
    "### 1) Write a Python script to merge two Python dictionaries\n"
   ]
  },
  {
   "cell_type": "code",
   "execution_count": 12,
   "metadata": {},
   "outputs": [],
   "source": [
    "dict1={'Sankar':98,'Divya':99,'renu':89,'Sidarth':88}\n",
    "dict2={'virat':76,'manvi':56,'Anurag':100,'Prerna':67}"
   ]
  },
  {
   "cell_type": "code",
   "execution_count": 15,
   "metadata": {},
   "outputs": [
    {
     "name": "stdout",
     "output_type": "stream",
     "text": [
      "None\n",
      "{'virat': 76, 'manvi': 56, 'Anurag': 100, 'Prerna': 67, 'Sankar': 98, 'Divya': 99, 'renu': 89, 'Sidarth': 88}\n"
     ]
    }
   ],
   "source": [
    "# merging dict through update fn\n",
    "print(dict2.update(dict1))    \n",
    "# changes made in dict2\n",
    "print(dict2)"
   ]
  },
  {
   "cell_type": "code",
   "execution_count": 16,
   "metadata": {},
   "outputs": [
    {
     "name": "stdout",
     "output_type": "stream",
     "text": [
      "{'Sankar': 98, 'Divya': 99, 'renu': 89, 'Sidarth': 88}\n"
     ]
    }
   ],
   "source": [
    "print(dict1)"
   ]
  },
  {
   "cell_type": "code",
   "execution_count": 17,
   "metadata": {},
   "outputs": [
    {
     "name": "stdout",
     "output_type": "stream",
     "text": [
      "{'Sankar': 98, 'Divya': 99, 'renu': 89, 'Sidarth': 88, 'virat': 76, 'manvi': 56, 'Anurag': 100, 'Prerna': 67}\n"
     ]
    }
   ],
   "source": [
    "res = {**dict1, **dict2} \n",
    "# making by adding two dictionary in another dictionary\n",
    "print(res)"
   ]
  },
  {
   "cell_type": "code",
   "execution_count": 21,
   "metadata": {},
   "outputs": [
    {
     "name": "stdout",
     "output_type": "stream",
     "text": [
      "{'virat': 76, 'manvi': 56, 'Anurag': 100, 'Prerna': 67, 'Sankar': 98, 'Divya': 99, 'renu': 89, 'Sidarth': 88}\n"
     ]
    }
   ],
   "source": [
    "res1 = dict1 and dict2  # merging using and \n",
    "print(res1)"
   ]
  },
  {
   "cell_type": "code",
   "execution_count": 31,
   "metadata": {},
   "outputs": [
    {
     "name": "stdout",
     "output_type": "stream",
     "text": [
      "{'Sankar': 98, 'Divya': 99, 'Sidarth': 88}  and dictionary 2 is     {'virat': 76, 'Anurag': 100, 'Prerna': 67, 'Sankar': 98, 'Divya': 99, 'renu': 89}\n",
      "\n",
      "\n",
      "{'virat': 76, 'Anurag': 100, 'Prerna': 67, 'Sankar': 98, 'Divya': 99, 'renu': 89}\n"
     ]
    }
   ],
   "source": [
    "print(dict1 ,\" and dictionary 2 is    \", dict2)\n",
    "print()\n",
    "print()\n",
    "dis =dict2 or dict1\n",
    "print(dis)"
   ]
  },
  {
   "cell_type": "markdown",
   "metadata": {},
   "source": [
    "### 2) Write a Python program to remove a key from a dictionary\n"
   ]
  },
  {
   "cell_type": "code",
   "execution_count": 26,
   "metadata": {},
   "outputs": [
    {
     "name": "stdout",
     "output_type": "stream",
     "text": [
      "{'Sankar': 98, 'Divya': 99, 'Sidarth': 88}\n"
     ]
    }
   ],
   "source": [
    "del dict1['renu']\n",
    "print(dict1)"
   ]
  },
  {
   "cell_type": "code",
   "execution_count": 27,
   "metadata": {},
   "outputs": [
    {
     "data": {
      "text/plain": [
       "56"
      ]
     },
     "execution_count": 27,
     "metadata": {},
     "output_type": "execute_result"
    }
   ],
   "source": [
    "dict2.pop('manvi')"
   ]
  },
  {
   "cell_type": "code",
   "execution_count": 28,
   "metadata": {},
   "outputs": [
    {
     "name": "stdout",
     "output_type": "stream",
     "text": [
      "{'virat': 76, 'Anurag': 100, 'Prerna': 67, 'Sankar': 98, 'Divya': 99, 'renu': 89, 'Sidarth': 88}\n"
     ]
    }
   ],
   "source": [
    "print(dict2)"
   ]
  },
  {
   "cell_type": "code",
   "execution_count": 29,
   "metadata": {},
   "outputs": [
    {
     "name": "stdout",
     "output_type": "stream",
     "text": [
      "{'virat': 76, 'Anurag': 100, 'Prerna': 67, 'Sankar': 98, 'Divya': 99, 'renu': 89}\n"
     ]
    }
   ],
   "source": [
    "dict2.popitem() #op last item\n",
    "print(dict2)"
   ]
  },
  {
   "cell_type": "markdown",
   "metadata": {},
   "source": [
    "### 3) Write a Python program to map two lists into a dictionary\n"
   ]
  },
  {
   "cell_type": "code",
   "execution_count": 33,
   "metadata": {},
   "outputs": [
    {
     "name": "stdout",
     "output_type": "stream",
     "text": [
      "Dictionary is  {'divya': 76, 'sankar': 89, 'renuka': 87, 'sid': 65, 'manik': 75, 'nandu': 80}\n"
     ]
    }
   ],
   "source": [
    "d1=['divya','sankar','renuka','sid','manik','nandu']\n",
    "d2=[76,89,87,65,75,80]\n",
    "res = {}\n",
    "for key in d1:\n",
    "    for value in d2:\n",
    "        res[key] = value\n",
    "        d2.remove(value)\n",
    "        break  \n",
    "print(\"Dictionary is \",str(res))"
   ]
  },
  {
   "cell_type": "code",
   "execution_count": 43,
   "metadata": {},
   "outputs": [
    {
     "name": "stdout",
     "output_type": "stream",
     "text": [
      "{'divya': 76, 'sankar': 89, 'renuka': 87, 'sid': 65, 'manik': 75, 'nandu': 80}\n"
     ]
    }
   ],
   "source": [
    "d1=['divya','sankar','renuka','sid','manik','nandu']\n",
    "d2=[76,89,87,65,75,80]\n",
    "res1={d1[i]:d2[i] for i in range(len(d1))}\n",
    "print(res1)\n"
   ]
  },
  {
   "cell_type": "code",
   "execution_count": 44,
   "metadata": {},
   "outputs": [
    {
     "name": "stdout",
     "output_type": "stream",
     "text": [
      "{'divya': 76, 'sankar': 89, 'renuka': 87, 'sid': 65, 'manik': 75, 'nandu': 80}\n"
     ]
    }
   ],
   "source": [
    "d1=['divya','sankar','renuka','sid','manik','nandu']\n",
    "d2=[76,89,87,65,75,80]\n",
    "rs2 = dict(zip(d1,d2))\n",
    "print(rs2)"
   ]
  },
  {
   "cell_type": "markdown",
   "metadata": {},
   "source": [
    "### 4) Write a Python program to find the length of a set\n"
   ]
  },
  {
   "cell_type": "code",
   "execution_count": 46,
   "metadata": {},
   "outputs": [
    {
     "name": "stdout",
     "output_type": "stream",
     "text": [
      "Number of names in Set is : 8\n"
     ]
    }
   ],
   "source": [
    "name={'divi','renu','sid','shri','anu','preu','manik','nandu'}\n",
    "print(\"Number of names in Set is :\",len(name))"
   ]
  },
  {
   "cell_type": "markdown",
   "metadata": {},
   "source": [
    "#### trying with add, update,remove and discard fn in set"
   ]
  },
  {
   "cell_type": "code",
   "execution_count": 51,
   "metadata": {},
   "outputs": [
    {
     "name": "stdout",
     "output_type": "stream",
     "text": [
      "Adding two  sets : {'manik', 'dabbu', 'preu', 'anu', 'nandu', 'jeevika', 'shri', 'komolika', 'divi', 'sivi', 'renu', 'manvi', 'sid'}\n"
     ]
    }
   ],
   "source": [
    "name={'divi','renu','sid','shri','anu','preu','manik','nandu'}\n",
    "name2={'sivi','manvi','jeevika','dabbu','komolika'}\n",
    "name.update(name2)\n",
    "print(\"Adding two  sets :\", name)\n"
   ]
  },
  {
   "cell_type": "code",
   "execution_count": 52,
   "metadata": {},
   "outputs": [],
   "source": [
    "name.add(\"sara\")"
   ]
  },
  {
   "cell_type": "code",
   "execution_count": 53,
   "metadata": {},
   "outputs": [
    {
     "name": "stdout",
     "output_type": "stream",
     "text": [
      "{'manik', 'dabbu', 'sara', 'preu', 'anu', 'nandu', 'jeevika', 'shri', 'komolika', 'divi', 'sivi', 'renu', 'manvi', 'sid'}\n"
     ]
    }
   ],
   "source": [
    "print(name)"
   ]
  },
  {
   "cell_type": "code",
   "execution_count": 56,
   "metadata": {},
   "outputs": [],
   "source": [
    "name.remove('sara')"
   ]
  },
  {
   "cell_type": "code",
   "execution_count": 57,
   "metadata": {},
   "outputs": [],
   "source": [
    "name.discard('divi')"
   ]
  },
  {
   "cell_type": "code",
   "execution_count": 58,
   "metadata": {},
   "outputs": [
    {
     "name": "stdout",
     "output_type": "stream",
     "text": [
      "{'manik', 'dabbu', 'preu', 'anu', 'nandu', 'jeevika', 'shri', 'komolika', 'sivi', 'renu', 'manvi', 'sid'}\n"
     ]
    }
   ],
   "source": [
    "print(name)"
   ]
  },
  {
   "cell_type": "markdown",
   "metadata": {},
   "source": [
    "### 5) Write a Python program to remove the intersection of a 2nd set from the 1st sets"
   ]
  },
  {
   "cell_type": "code",
   "execution_count": 59,
   "metadata": {},
   "outputs": [
    {
     "name": "stdout",
     "output_type": "stream",
     "text": [
      "{12, 13, 14, 15}\n"
     ]
    }
   ],
   "source": [
    "a1={12,13,14,15,16,17,21,12,13,14,121}\n",
    "a2={12,13,14,11,88,97,65,15}\n",
    "print(a1.intersection(a2))"
   ]
  }
 ],
 "metadata": {
  "kernelspec": {
   "display_name": "Python 3",
   "language": "python",
   "name": "python3"
  },
  "language_info": {
   "codemirror_mode": {
    "name": "ipython",
    "version": 3
   },
   "file_extension": ".py",
   "mimetype": "text/x-python",
   "name": "python",
   "nbconvert_exporter": "python",
   "pygments_lexer": "ipython3",
   "version": "3.8.5"
  }
 },
 "nbformat": 4,
 "nbformat_minor": 4
}
